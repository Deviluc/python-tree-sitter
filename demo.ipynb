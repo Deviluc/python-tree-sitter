{
 "cells": [
  {
   "cell_type": "code",
   "execution_count": 1,
   "metadata": {},
   "outputs": [],
   "source": [
    "from tree_sitter_api  import Parser\n",
    "from tree_sitter_java import tree_sitter_java"
   ]
  },
  {
   "cell_type": "code",
   "execution_count": 2,
   "metadata": {},
   "outputs": [
    {
     "data": {
      "text/plain": [
       "True"
      ]
     },
     "execution_count": 2,
     "metadata": {},
     "output_type": "execute_result"
    }
   ],
   "source": [
    "parser = Parser()\n",
    "parser.set_language(tree_sitter_java())"
   ]
  },
  {
   "cell_type": "code",
   "execution_count": 3,
   "metadata": {},
   "outputs": [],
   "source": [
    "source_code = \"public class Main {}\""
   ]
  },
  {
   "cell_type": "code",
   "execution_count": 4,
   "metadata": {},
   "outputs": [],
   "source": [
    "tree = parser.parse_string(source_code)"
   ]
  },
  {
   "cell_type": "code",
   "execution_count": 5,
   "metadata": {},
   "outputs": [],
   "source": [
    "root = tree.root_node()"
   ]
  },
  {
   "cell_type": "code",
   "execution_count": 6,
   "metadata": {},
   "outputs": [
    {
     "data": {
      "text/plain": [
       "20"
      ]
     },
     "execution_count": 6,
     "metadata": {},
     "output_type": "execute_result"
    }
   ],
   "source": [
    "root.end_byte()"
   ]
  },
  {
   "cell_type": "code",
   "execution_count": 7,
   "metadata": {},
   "outputs": [
    {
     "data": {
      "text/plain": [
       "'(program (class_declaration (modifier) (identifier) (class_body)))'"
      ]
     },
     "execution_count": 7,
     "metadata": {},
     "output_type": "execute_result"
    }
   ],
   "source": [
    "root.string()"
   ]
  },
  {
   "cell_type": "code",
   "execution_count": 8,
   "metadata": {},
   "outputs": [],
   "source": [
    "class_decl = root[0]"
   ]
  },
  {
   "cell_type": "code",
   "execution_count": 9,
   "metadata": {},
   "outputs": [
    {
     "data": {
      "text/plain": [
       "'(class_declaration (modifier) (identifier) (class_body))'"
      ]
     },
     "execution_count": 9,
     "metadata": {},
     "output_type": "execute_result"
    }
   ],
   "source": [
    "class_decl.string()"
   ]
  },
  {
   "cell_type": "code",
   "execution_count": 10,
   "metadata": {},
   "outputs": [
    {
     "data": {
      "text/plain": [
       "0"
      ]
     },
     "execution_count": 10,
     "metadata": {},
     "output_type": "execute_result"
    }
   ],
   "source": [
    "class_decl.start_byte()"
   ]
  },
  {
   "cell_type": "code",
   "execution_count": 11,
   "metadata": {},
   "outputs": [],
   "source": [
    "mod = class_decl[0]"
   ]
  },
  {
   "cell_type": "code",
   "execution_count": 12,
   "metadata": {},
   "outputs": [
    {
     "data": {
      "text/plain": [
       "'(modifier)'"
      ]
     },
     "execution_count": 12,
     "metadata": {},
     "output_type": "execute_result"
    }
   ],
   "source": [
    "mod.string()"
   ]
  },
  {
   "cell_type": "code",
   "execution_count": 13,
   "metadata": {},
   "outputs": [
    {
     "data": {
      "text/plain": [
       "0"
      ]
     },
     "execution_count": 13,
     "metadata": {},
     "output_type": "execute_result"
    }
   ],
   "source": [
    "mod.start_byte()"
   ]
  },
  {
   "cell_type": "code",
   "execution_count": 14,
   "metadata": {},
   "outputs": [
    {
     "data": {
      "text/plain": [
       "6"
      ]
     },
     "execution_count": 14,
     "metadata": {},
     "output_type": "execute_result"
    }
   ],
   "source": [
    "mod.end_byte()"
   ]
  },
  {
   "cell_type": "code",
   "execution_count": 15,
   "metadata": {},
   "outputs": [],
   "source": [
    "ident = class_decl[1]"
   ]
  },
  {
   "cell_type": "code",
   "execution_count": 16,
   "metadata": {},
   "outputs": [
    {
     "data": {
      "text/plain": [
       "7"
      ]
     },
     "execution_count": 16,
     "metadata": {},
     "output_type": "execute_result"
    }
   ],
   "source": [
    "ident.start_byte()"
   ]
  },
  {
   "cell_type": "code",
   "execution_count": 17,
   "metadata": {},
   "outputs": [
    {
     "data": {
      "text/plain": [
       "'public class Main {}'"
      ]
     },
     "execution_count": 17,
     "metadata": {},
     "output_type": "execute_result"
    }
   ],
   "source": [
    "source_code"
   ]
  },
  {
   "cell_type": "code",
   "execution_count": 18,
   "metadata": {},
   "outputs": [],
   "source": [
    "new_source = \"public class Main {\\n\\tprivate int num;\\n}\""
   ]
  },
  {
   "cell_type": "code",
   "execution_count": 19,
   "metadata": {},
   "outputs": [],
   "source": [
    "from tree_sitter_api import InputEdit\n",
    "from tree_sitter_api import Point"
   ]
  },
  {
   "cell_type": "code",
   "execution_count": 20,
   "metadata": {},
   "outputs": [],
   "source": [
    "edit = InputEdit()\n",
    "edit.start_point = Point()\n",
    "edit.new_end_point = Point()\n",
    "edit.old_end_point = Point()"
   ]
  },
  {
   "cell_type": "code",
   "execution_count": 21,
   "metadata": {},
   "outputs": [],
   "source": [
    "edit.start_byte = 18\n",
    "edit.start_point.row = 0\n",
    "edit.start_point.column = 18\n",
    "edit.new_end_byte = 38\n",
    "edit.new_end_point.row = 2\n",
    "edit.new_end_point.column = 0\n",
    "edit.old_end_byte = 19\n",
    "edit.old_end_point.row = 0\n",
    "edit.old_end_point.column = 19"
   ]
  },
  {
   "cell_type": "code",
   "execution_count": 22,
   "metadata": {},
   "outputs": [],
   "source": [
    "tree.print_dot_graph(\"/home/bugs/graph\")"
   ]
  },
  {
   "cell_type": "code",
   "execution_count": 23,
   "metadata": {},
   "outputs": [],
   "source": [
    "from graphviz import Source"
   ]
  },
  {
   "cell_type": "code",
   "execution_count": 24,
   "metadata": {},
   "outputs": [],
   "source": [
    "def show_graph(tree):\n",
    "    tree.print_dot_graph(\"/tmp/graph\")\n",
    "    f = open(\"/tmp/graph\", \"r\")\n",
    "    s = Source(f.read())\n",
    "    f.close()\n",
    "    return s"
   ]
  },
  {
   "cell_type": "code",
   "execution_count": 25,
   "metadata": {},
   "outputs": [
    {
     "data": {
      "image/svg+xml": [
       "<?xml version=\"1.0\" encoding=\"UTF-8\" standalone=\"no\"?>\n",
       "<!DOCTYPE svg PUBLIC \"-//W3C//DTD SVG 1.1//EN\"\n",
       " \"http://www.w3.org/Graphics/SVG/1.1/DTD/svg11.dtd\">\n",
       "<!-- Generated by graphviz version 2.40.1 (20161225.0304)\n",
       " -->\n",
       "<!-- Title: tree Pages: 1 -->\n",
       "<svg width=\"424pt\" height=\"260pt\"\n",
       " viewBox=\"0.00 0.00 424.05 260.00\" xmlns=\"http://www.w3.org/2000/svg\" xmlns:xlink=\"http://www.w3.org/1999/xlink\">\n",
       "<g id=\"graph0\" class=\"graph\" transform=\"scale(1 1) rotate(0) translate(4 256)\">\n",
       "<title>tree</title>\n",
       "<polygon fill=\"#ffffff\" stroke=\"transparent\" points=\"-4,4 -4,-256 420.0456,-256 420.0456,4 -4,4\"/>\n",
       "<!-- tree_0x7ffccc3d6d48 -->\n",
       "<g id=\"node1\" class=\"node\">\n",
       "<title>tree_0x7ffccc3d6d48</title>\n",
       "<g id=\"a_node1\"><a xlink:title=\"range: 0 &#45; 20&#10;state: 0&#10;error&#45;cost: 0&#10;has&#45;changes: 0&#10;repeat&#45;depth: 0&#10;lookahead&#45;bytes: 1\">\n",
       "<ellipse fill=\"none\" stroke=\"#000000\" cx=\"256.0456\" cy=\"-234\" rx=\"50.8918\" ry=\"18\"/>\n",
       "<text text-anchor=\"middle\" x=\"256.0456\" y=\"-230.3\" font-family=\"Times,serif\" font-size=\"14.00\" fill=\"#000000\">program</text>\n",
       "</a>\n",
       "</g>\n",
       "</g>\n",
       "<!-- tree_0x55608990b2a0 -->\n",
       "<g id=\"node2\" class=\"node\">\n",
       "<title>tree_0x55608990b2a0</title>\n",
       "<g id=\"a_node2\"><a xlink:title=\"range: 0 &#45; 20&#10;state: 1&#10;error&#45;cost: 0&#10;has&#45;changes: 0&#10;repeat&#45;depth: 0&#10;lookahead&#45;bytes: 1\">\n",
       "<ellipse fill=\"none\" stroke=\"#000000\" cx=\"188.0456\" cy=\"-162\" rx=\"91.784\" ry=\"18\"/>\n",
       "<text text-anchor=\"middle\" x=\"188.0456\" y=\"-158.3\" font-family=\"Times,serif\" font-size=\"14.00\" fill=\"#000000\">class_declaration</text>\n",
       "</a>\n",
       "</g>\n",
       "</g>\n",
       "<!-- tree_0x7ffccc3d6d48&#45;&gt;tree_0x55608990b2a0 -->\n",
       "<g id=\"edge8\" class=\"edge\">\n",
       "<title>tree_0x7ffccc3d6d48&#45;&gt;tree_0x55608990b2a0</title>\n",
       "<g id=\"a_edge8\"><a xlink:title=\"0\">\n",
       "<path fill=\"none\" stroke=\"#000000\" d=\"M239.5847,-216.5708C229.0506,-205.4171 215.4233,-190.9882 204.8273,-179.7689\"/>\n",
       "</a>\n",
       "</g>\n",
       "</g>\n",
       "<!-- tree_0x55608990b2a8 -->\n",
       "<g id=\"node10\" class=\"node\">\n",
       "<title>tree_0x55608990b2a8</title>\n",
       "<g id=\"a_node10\"><a xlink:title=\"range: 20 &#45; 20&#10;state: 573&#10;error&#45;cost: 0&#10;has&#45;changes: 0&#10;repeat&#45;depth: 0&#10;lookahead&#45;bytes: 1\">\n",
       "<text text-anchor=\"middle\" x=\"325.0456\" y=\"-158.3\" font-family=\"Times,serif\" font-size=\"14.00\" fill=\"#c0c0c0\">END</text>\n",
       "</a>\n",
       "</g>\n",
       "</g>\n",
       "<!-- tree_0x7ffccc3d6d48&#45;&gt;tree_0x55608990b2a8 -->\n",
       "<g id=\"edge9\" class=\"edge\">\n",
       "<title>tree_0x7ffccc3d6d48&#45;&gt;tree_0x55608990b2a8</title>\n",
       "<g id=\"a_edge9\"><a xlink:title=\"1\">\n",
       "<path fill=\"none\" stroke=\"#000000\" d=\"M272.3976,-216.937C282.9982,-205.8755 296.7945,-191.4794 307.6047,-180.1992\"/>\n",
       "</a>\n",
       "</g>\n",
       "</g>\n",
       "<!-- tree_0x5560897fd0b0 -->\n",
       "<g id=\"node3\" class=\"node\">\n",
       "<title>tree_0x5560897fd0b0</title>\n",
       "<g id=\"a_node3\"><a xlink:title=\"range: 0 &#45; 6&#10;state: 1&#10;error&#45;cost: 0&#10;has&#45;changes: 0&#10;repeat&#45;depth: 0&#10;lookahead&#45;bytes: 1\">\n",
       "<ellipse fill=\"none\" stroke=\"#000000\" cx=\"50.0456\" cy=\"-90\" rx=\"50.0912\" ry=\"18\"/>\n",
       "<text text-anchor=\"middle\" x=\"50.0456\" y=\"-86.3\" font-family=\"Times,serif\" font-size=\"14.00\" fill=\"#000000\">modifier</text>\n",
       "</a>\n",
       "</g>\n",
       "</g>\n",
       "<!-- tree_0x55608990b2a0&#45;&gt;tree_0x5560897fd0b0 -->\n",
       "<g id=\"edge2\" class=\"edge\">\n",
       "<title>tree_0x55608990b2a0&#45;&gt;tree_0x5560897fd0b0</title>\n",
       "<g id=\"a_edge2\"><a xlink:title=\"0\">\n",
       "<path fill=\"none\" stroke=\"#000000\" d=\"M155.6907,-145.1192C132.2691,-132.8992 100.9117,-116.5388 78.4549,-104.8223\"/>\n",
       "</a>\n",
       "</g>\n",
       "</g>\n",
       "<!-- tree_0x5560897fd0b8 -->\n",
       "<g id=\"node5\" class=\"node\">\n",
       "<title>tree_0x5560897fd0b8</title>\n",
       "<g id=\"a_node5\"><a xlink:title=\"range: 6 &#45; 12&#10;state: 12&#10;error&#45;cost: 0&#10;has&#45;changes: 0&#10;repeat&#45;depth: 0&#10;lookahead&#45;bytes: 1\">\n",
       "<text text-anchor=\"middle\" x=\"145.0456\" y=\"-86.3\" font-family=\"Times,serif\" font-size=\"14.00\" fill=\"#000000\">class</text>\n",
       "</a>\n",
       "</g>\n",
       "</g>\n",
       "<!-- tree_0x55608990b2a0&#45;&gt;tree_0x5560897fd0b8 -->\n",
       "<g id=\"edge3\" class=\"edge\">\n",
       "<title>tree_0x55608990b2a0&#45;&gt;tree_0x5560897fd0b8</title>\n",
       "<g id=\"a_edge3\"><a xlink:title=\"1\">\n",
       "<path fill=\"none\" stroke=\"#000000\" d=\"M177.1948,-143.8314C170.7261,-133 162.5368,-119.2876 156.0424,-108.4133\"/>\n",
       "</a>\n",
       "</g>\n",
       "</g>\n",
       "<!-- tree_0x5560897fd0c0 -->\n",
       "<g id=\"node6\" class=\"node\">\n",
       "<title>tree_0x5560897fd0c0</title>\n",
       "<g id=\"a_node6\"><a xlink:title=\"range: 12 &#45; 17&#10;state: 175&#10;error&#45;cost: 0&#10;has&#45;changes: 0&#10;repeat&#45;depth: 0&#10;lookahead&#45;bytes: 1\">\n",
       "<text text-anchor=\"middle\" x=\"232.0456\" y=\"-86.3\" font-family=\"Times,serif\" font-size=\"14.00\" fill=\"#000000\">identifier</text>\n",
       "</a>\n",
       "</g>\n",
       "</g>\n",
       "<!-- tree_0x55608990b2a0&#45;&gt;tree_0x5560897fd0c0 -->\n",
       "<g id=\"edge4\" class=\"edge\">\n",
       "<title>tree_0x55608990b2a0&#45;&gt;tree_0x5560897fd0c0</title>\n",
       "<g id=\"a_edge4\"><a xlink:title=\"2\">\n",
       "<path fill=\"none\" stroke=\"#000000\" d=\"M199.1486,-143.8314C205.7678,-133 214.1476,-119.2876 220.793,-108.4133\"/>\n",
       "</a>\n",
       "</g>\n",
       "</g>\n",
       "<!-- tree_0x5560897fd0c8 -->\n",
       "<g id=\"node7\" class=\"node\">\n",
       "<title>tree_0x5560897fd0c8</title>\n",
       "<g id=\"a_node7\"><a xlink:title=\"range: 17 &#45; 20&#10;state: 403&#10;error&#45;cost: 0&#10;has&#45;changes: 0&#10;repeat&#45;depth: 0&#10;lookahead&#45;bytes: 1\">\n",
       "<ellipse fill=\"none\" stroke=\"#000000\" cx=\"353.0456\" cy=\"-90\" rx=\"61.99\" ry=\"18\"/>\n",
       "<text text-anchor=\"middle\" x=\"353.0456\" y=\"-86.3\" font-family=\"Times,serif\" font-size=\"14.00\" fill=\"#000000\">class_body</text>\n",
       "</a>\n",
       "</g>\n",
       "</g>\n",
       "<!-- tree_0x55608990b2a0&#45;&gt;tree_0x5560897fd0c8 -->\n",
       "<g id=\"edge7\" class=\"edge\">\n",
       "<title>tree_0x55608990b2a0&#45;&gt;tree_0x5560897fd0c8</title>\n",
       "<g id=\"a_edge7\"><a xlink:title=\"3\">\n",
       "<path fill=\"none\" stroke=\"#000000\" d=\"M225.8999,-145.4817C253.8722,-133.2757 291.6434,-116.7937 318.7369,-104.971\"/>\n",
       "</a>\n",
       "</g>\n",
       "</g>\n",
       "<!-- tree_0x556089b91410 -->\n",
       "<g id=\"node4\" class=\"node\">\n",
       "<title>tree_0x556089b91410</title>\n",
       "<g id=\"a_node4\"><a xlink:title=\"range: 0 &#45; 6&#10;state: 1&#10;error&#45;cost: 0&#10;has&#45;changes: 0&#10;repeat&#45;depth: 0&#10;lookahead&#45;bytes: 1\">\n",
       "<text text-anchor=\"middle\" x=\"50.0456\" y=\"-14.3\" font-family=\"Times,serif\" font-size=\"14.00\" fill=\"#000000\">public</text>\n",
       "</a>\n",
       "</g>\n",
       "</g>\n",
       "<!-- tree_0x5560897fd0b0&#45;&gt;tree_0x556089b91410 -->\n",
       "<g id=\"edge1\" class=\"edge\">\n",
       "<title>tree_0x5560897fd0b0&#45;&gt;tree_0x556089b91410</title>\n",
       "<g id=\"a_edge1\"><a xlink:title=\"0\">\n",
       "<path fill=\"none\" stroke=\"#000000\" d=\"M50.0456,-71.8314C50.0456,-61 50.0456,-47.2876 50.0456,-36.4133\"/>\n",
       "</a>\n",
       "</g>\n",
       "</g>\n",
       "<!-- tree_0x55608971bbc0 -->\n",
       "<g id=\"node8\" class=\"node\">\n",
       "<title>tree_0x55608971bbc0</title>\n",
       "<g id=\"a_node8\"><a xlink:title=\"range: 17 &#45; 19&#10;state: 403&#10;error&#45;cost: 0&#10;has&#45;changes: 0&#10;repeat&#45;depth: 0&#10;lookahead&#45;bytes: 1\">\n",
       "<text text-anchor=\"middle\" x=\"317.0456\" y=\"-14.3\" font-family=\"Times,serif\" font-size=\"14.00\" fill=\"#000000\">{</text>\n",
       "</a>\n",
       "</g>\n",
       "</g>\n",
       "<!-- tree_0x5560897fd0c8&#45;&gt;tree_0x55608971bbc0 -->\n",
       "<g id=\"edge5\" class=\"edge\">\n",
       "<title>tree_0x5560897fd0c8&#45;&gt;tree_0x55608971bbc0</title>\n",
       "<g id=\"a_edge5\"><a xlink:title=\"0\">\n",
       "<path fill=\"none\" stroke=\"#000000\" d=\"M343.9612,-71.8314C338.5456,-61 331.6893,-47.2876 326.2522,-36.4133\"/>\n",
       "</a>\n",
       "</g>\n",
       "</g>\n",
       "<!-- tree_0x55608971bbc8 -->\n",
       "<g id=\"node9\" class=\"node\">\n",
       "<title>tree_0x55608971bbc8</title>\n",
       "<g id=\"a_node9\"><a xlink:title=\"range: 19 &#45; 20&#10;state: 320&#10;error&#45;cost: 0&#10;has&#45;changes: 0&#10;repeat&#45;depth: 0&#10;lookahead&#45;bytes: 1\">\n",
       "<text text-anchor=\"middle\" x=\"389.0456\" y=\"-14.3\" font-family=\"Times,serif\" font-size=\"14.00\" fill=\"#000000\">}</text>\n",
       "</a>\n",
       "</g>\n",
       "</g>\n",
       "<!-- tree_0x5560897fd0c8&#45;&gt;tree_0x55608971bbc8 -->\n",
       "<g id=\"edge6\" class=\"edge\">\n",
       "<title>tree_0x5560897fd0c8&#45;&gt;tree_0x55608971bbc8</title>\n",
       "<g id=\"a_edge6\"><a xlink:title=\"1\">\n",
       "<path fill=\"none\" stroke=\"#000000\" d=\"M362.1299,-71.8314C367.5455,-61 374.4018,-47.2876 379.8389,-36.4133\"/>\n",
       "</a>\n",
       "</g>\n",
       "</g>\n",
       "</g>\n",
       "</svg>\n"
      ],
      "text/plain": [
       "<graphviz.files.Source at 0x7fc2a82ac390>"
      ]
     },
     "execution_count": 25,
     "metadata": {},
     "output_type": "execute_result"
    }
   ],
   "source": [
    "show_graph(tree)"
   ]
  },
  {
   "cell_type": "code",
   "execution_count": 26,
   "metadata": {},
   "outputs": [
    {
     "data": {
      "text/plain": [
       "\"<tree_sitter_api.tree_sitter_api.p_TSTree; proxy of <Swig Object of type 'p_TSTree *' at 0x7fc2a85269f0> >\""
      ]
     },
     "execution_count": 26,
     "metadata": {},
     "output_type": "execute_result"
    }
   ],
   "source": [
    "tree.edit(edit)\n",
    "str(tree._tree_ptr)"
   ]
  },
  {
   "cell_type": "code",
   "execution_count": 27,
   "metadata": {},
   "outputs": [],
   "source": [
    "new_tree = parser.parse_string(new_source, tree)"
   ]
  },
  {
   "cell_type": "code",
   "execution_count": 28,
   "metadata": {},
   "outputs": [
    {
     "data": {
      "image/svg+xml": [
       "<?xml version=\"1.0\" encoding=\"UTF-8\" standalone=\"no\"?>\n",
       "<!DOCTYPE svg PUBLIC \"-//W3C//DTD SVG 1.1//EN\"\n",
       " \"http://www.w3.org/Graphics/SVG/1.1/DTD/svg11.dtd\">\n",
       "<!-- Generated by graphviz version 2.40.1 (20161225.0304)\n",
       " -->\n",
       "<!-- Title: tree Pages: 1 -->\n",
       "<svg width=\"658pt\" height=\"548pt\"\n",
       " viewBox=\"0.00 0.00 658.05 548.00\" xmlns=\"http://www.w3.org/2000/svg\" xmlns:xlink=\"http://www.w3.org/1999/xlink\">\n",
       "<g id=\"graph0\" class=\"graph\" transform=\"scale(1 1) rotate(0) translate(4 544)\">\n",
       "<title>tree</title>\n",
       "<polygon fill=\"#ffffff\" stroke=\"transparent\" points=\"-4,4 -4,-544 654.0456,-544 654.0456,4 -4,4\"/>\n",
       "<!-- tree_0x7ffccc3d6d48 -->\n",
       "<g id=\"node1\" class=\"node\">\n",
       "<title>tree_0x7ffccc3d6d48</title>\n",
       "<g id=\"a_node1\"><a xlink:title=\"range: 0 &#45; 39&#10;state: 0&#10;error&#45;cost: 0&#10;has&#45;changes: 0&#10;repeat&#45;depth: 0&#10;lookahead&#45;bytes: 1\">\n",
       "<ellipse fill=\"none\" stroke=\"#000000\" cx=\"256.0456\" cy=\"-522\" rx=\"50.8918\" ry=\"18\"/>\n",
       "<text text-anchor=\"middle\" x=\"256.0456\" y=\"-518.3\" font-family=\"Times,serif\" font-size=\"14.00\" fill=\"#000000\">program</text>\n",
       "</a>\n",
       "</g>\n",
       "</g>\n",
       "<!-- tree_0x55608989d910 -->\n",
       "<g id=\"node2\" class=\"node\">\n",
       "<title>tree_0x55608989d910</title>\n",
       "<g id=\"a_node2\"><a xlink:title=\"range: 0 &#45; 39&#10;state: 1&#10;error&#45;cost: 0&#10;has&#45;changes: 0&#10;repeat&#45;depth: 0&#10;lookahead&#45;bytes: 1\">\n",
       "<ellipse fill=\"none\" stroke=\"#000000\" cx=\"188.0456\" cy=\"-450\" rx=\"91.784\" ry=\"18\"/>\n",
       "<text text-anchor=\"middle\" x=\"188.0456\" y=\"-446.3\" font-family=\"Times,serif\" font-size=\"14.00\" fill=\"#000000\">class_declaration</text>\n",
       "</a>\n",
       "</g>\n",
       "</g>\n",
       "<!-- tree_0x7ffccc3d6d48&#45;&gt;tree_0x55608989d910 -->\n",
       "<g id=\"edge19\" class=\"edge\">\n",
       "<title>tree_0x7ffccc3d6d48&#45;&gt;tree_0x55608989d910</title>\n",
       "<g id=\"a_edge19\"><a xlink:title=\"0\">\n",
       "<path fill=\"none\" stroke=\"#000000\" d=\"M239.5847,-504.5708C229.0506,-493.4171 215.4233,-478.9882 204.8273,-467.7689\"/>\n",
       "</a>\n",
       "</g>\n",
       "</g>\n",
       "<!-- tree_0x55608989d918 -->\n",
       "<g id=\"node21\" class=\"node\">\n",
       "<title>tree_0x55608989d918</title>\n",
       "<g id=\"a_node21\"><a xlink:title=\"range: 39 &#45; 39&#10;state: 573&#10;error&#45;cost: 0&#10;has&#45;changes: 0&#10;repeat&#45;depth: 0&#10;lookahead&#45;bytes: 1\">\n",
       "<text text-anchor=\"middle\" x=\"325.0456\" y=\"-446.3\" font-family=\"Times,serif\" font-size=\"14.00\" fill=\"#c0c0c0\">END</text>\n",
       "</a>\n",
       "</g>\n",
       "</g>\n",
       "<!-- tree_0x7ffccc3d6d48&#45;&gt;tree_0x55608989d918 -->\n",
       "<g id=\"edge20\" class=\"edge\">\n",
       "<title>tree_0x7ffccc3d6d48&#45;&gt;tree_0x55608989d918</title>\n",
       "<g id=\"a_edge20\"><a xlink:title=\"1\">\n",
       "<path fill=\"none\" stroke=\"#000000\" d=\"M272.3976,-504.937C282.9982,-493.8755 296.7945,-479.4794 307.6047,-468.1992\"/>\n",
       "</a>\n",
       "</g>\n",
       "</g>\n",
       "<!-- tree_0x5560898a8b00 -->\n",
       "<g id=\"node3\" class=\"node\">\n",
       "<title>tree_0x5560898a8b00</title>\n",
       "<g id=\"a_node3\"><a xlink:title=\"range: 0 &#45; 6&#10;state: 1&#10;error&#45;cost: 0&#10;has&#45;changes: 0&#10;repeat&#45;depth: 0&#10;lookahead&#45;bytes: 1\">\n",
       "<ellipse fill=\"none\" stroke=\"#000000\" cx=\"50.0456\" cy=\"-378\" rx=\"50.0912\" ry=\"18\"/>\n",
       "<text text-anchor=\"middle\" x=\"50.0456\" y=\"-374.3\" font-family=\"Times,serif\" font-size=\"14.00\" fill=\"#000000\">modifier</text>\n",
       "</a>\n",
       "</g>\n",
       "</g>\n",
       "<!-- tree_0x55608989d910&#45;&gt;tree_0x5560898a8b00 -->\n",
       "<g id=\"edge2\" class=\"edge\">\n",
       "<title>tree_0x55608989d910&#45;&gt;tree_0x5560898a8b00</title>\n",
       "<g id=\"a_edge2\"><a xlink:title=\"0\">\n",
       "<path fill=\"none\" stroke=\"#000000\" d=\"M155.6907,-433.1192C132.2691,-420.8992 100.9117,-404.5388 78.4549,-392.8223\"/>\n",
       "</a>\n",
       "</g>\n",
       "</g>\n",
       "<!-- tree_0x5560898a8b08 -->\n",
       "<g id=\"node5\" class=\"node\">\n",
       "<title>tree_0x5560898a8b08</title>\n",
       "<g id=\"a_node5\"><a xlink:title=\"range: 6 &#45; 12&#10;state: 12&#10;error&#45;cost: 0&#10;has&#45;changes: 0&#10;repeat&#45;depth: 0&#10;lookahead&#45;bytes: 1\">\n",
       "<text text-anchor=\"middle\" x=\"145.0456\" y=\"-374.3\" font-family=\"Times,serif\" font-size=\"14.00\" fill=\"#000000\">class</text>\n",
       "</a>\n",
       "</g>\n",
       "</g>\n",
       "<!-- tree_0x55608989d910&#45;&gt;tree_0x5560898a8b08 -->\n",
       "<g id=\"edge3\" class=\"edge\">\n",
       "<title>tree_0x55608989d910&#45;&gt;tree_0x5560898a8b08</title>\n",
       "<g id=\"a_edge3\"><a xlink:title=\"1\">\n",
       "<path fill=\"none\" stroke=\"#000000\" d=\"M177.1948,-431.8314C170.7261,-421 162.5368,-407.2876 156.0424,-396.4133\"/>\n",
       "</a>\n",
       "</g>\n",
       "</g>\n",
       "<!-- tree_0x5560898a8b10 -->\n",
       "<g id=\"node6\" class=\"node\">\n",
       "<title>tree_0x5560898a8b10</title>\n",
       "<g id=\"a_node6\"><a xlink:title=\"range: 12 &#45; 17&#10;state: 175&#10;error&#45;cost: 0&#10;has&#45;changes: 0&#10;repeat&#45;depth: 0&#10;lookahead&#45;bytes: 1\">\n",
       "<text text-anchor=\"middle\" x=\"232.0456\" y=\"-374.3\" font-family=\"Times,serif\" font-size=\"14.00\" fill=\"#000000\">identifier</text>\n",
       "</a>\n",
       "</g>\n",
       "</g>\n",
       "<!-- tree_0x55608989d910&#45;&gt;tree_0x5560898a8b10 -->\n",
       "<g id=\"edge4\" class=\"edge\">\n",
       "<title>tree_0x55608989d910&#45;&gt;tree_0x5560898a8b10</title>\n",
       "<g id=\"a_edge4\"><a xlink:title=\"2\">\n",
       "<path fill=\"none\" stroke=\"#000000\" d=\"M199.1486,-431.8314C205.7678,-421 214.1476,-407.2876 220.793,-396.4133\"/>\n",
       "</a>\n",
       "</g>\n",
       "</g>\n",
       "<!-- tree_0x5560898a8b18 -->\n",
       "<g id=\"node7\" class=\"node\">\n",
       "<title>tree_0x5560898a8b18</title>\n",
       "<g id=\"a_node7\"><a xlink:title=\"range: 17 &#45; 39&#10;state: 403&#10;error&#45;cost: 0&#10;has&#45;changes: 0&#10;repeat&#45;depth: 0&#10;lookahead&#45;bytes: 1\">\n",
       "<ellipse fill=\"none\" stroke=\"#000000\" cx=\"353.0456\" cy=\"-378\" rx=\"61.99\" ry=\"18\"/>\n",
       "<text text-anchor=\"middle\" x=\"353.0456\" y=\"-374.3\" font-family=\"Times,serif\" font-size=\"14.00\" fill=\"#000000\">class_body</text>\n",
       "</a>\n",
       "</g>\n",
       "</g>\n",
       "<!-- tree_0x55608989d910&#45;&gt;tree_0x5560898a8b18 -->\n",
       "<g id=\"edge18\" class=\"edge\">\n",
       "<title>tree_0x55608989d910&#45;&gt;tree_0x5560898a8b18</title>\n",
       "<g id=\"a_edge18\"><a xlink:title=\"3\">\n",
       "<path fill=\"none\" stroke=\"#000000\" d=\"M225.8999,-433.4817C253.8722,-421.2757 291.6434,-404.7937 318.7369,-392.971\"/>\n",
       "</a>\n",
       "</g>\n",
       "</g>\n",
       "<!-- tree_0x556089b91410 -->\n",
       "<g id=\"node4\" class=\"node\">\n",
       "<title>tree_0x556089b91410</title>\n",
       "<g id=\"a_node4\"><a xlink:title=\"range: 0 &#45; 6&#10;state: 1&#10;error&#45;cost: 0&#10;has&#45;changes: 0&#10;repeat&#45;depth: 0&#10;lookahead&#45;bytes: 1\">\n",
       "<text text-anchor=\"middle\" x=\"50.0456\" y=\"-302.3\" font-family=\"Times,serif\" font-size=\"14.00\" fill=\"#000000\">public</text>\n",
       "</a>\n",
       "</g>\n",
       "</g>\n",
       "<!-- tree_0x5560898a8b00&#45;&gt;tree_0x556089b91410 -->\n",
       "<g id=\"edge1\" class=\"edge\">\n",
       "<title>tree_0x5560898a8b00&#45;&gt;tree_0x556089b91410</title>\n",
       "<g id=\"a_edge1\"><a xlink:title=\"0\">\n",
       "<path fill=\"none\" stroke=\"#000000\" d=\"M50.0456,-359.8314C50.0456,-349 50.0456,-335.2876 50.0456,-324.4133\"/>\n",
       "</a>\n",
       "</g>\n",
       "</g>\n",
       "<!-- tree_0x556089bc9af0 -->\n",
       "<g id=\"node8\" class=\"node\">\n",
       "<title>tree_0x556089bc9af0</title>\n",
       "<g id=\"a_node8\"><a xlink:title=\"range: 17 &#45; 19&#10;state: 403&#10;error&#45;cost: 0&#10;has&#45;changes: 0&#10;repeat&#45;depth: 0&#10;lookahead&#45;bytes: 1\">\n",
       "<text text-anchor=\"middle\" x=\"219.0456\" y=\"-302.3\" font-family=\"Times,serif\" font-size=\"14.00\" fill=\"#000000\">{</text>\n",
       "</a>\n",
       "</g>\n",
       "</g>\n",
       "<!-- tree_0x5560898a8b18&#45;&gt;tree_0x556089bc9af0 -->\n",
       "<g id=\"edge5\" class=\"edge\">\n",
       "<title>tree_0x5560898a8b18&#45;&gt;tree_0x556089bc9af0</title>\n",
       "<g id=\"a_edge5\"><a xlink:title=\"0\">\n",
       "<path fill=\"none\" stroke=\"#000000\" d=\"M323.3066,-362.0209C300.3295,-349.6749 268.7797,-332.7228 246.42,-320.7087\"/>\n",
       "</a>\n",
       "</g>\n",
       "</g>\n",
       "<!-- tree_0x556089bc9af8 -->\n",
       "<g id=\"node9\" class=\"node\">\n",
       "<title>tree_0x556089bc9af8</title>\n",
       "<g id=\"a_node9\"><a xlink:title=\"range: 19 &#45; 37&#10;state: 320&#10;error&#45;cost: 0&#10;has&#45;changes: 0&#10;repeat&#45;depth: 0&#10;lookahead&#45;bytes: 1\">\n",
       "<ellipse fill=\"none\" stroke=\"#000000\" cx=\"353.0456\" cy=\"-306\" rx=\"89.0842\" ry=\"18\"/>\n",
       "<text text-anchor=\"middle\" x=\"353.0456\" y=\"-302.3\" font-family=\"Times,serif\" font-size=\"14.00\" fill=\"#000000\">field_declaration</text>\n",
       "</a>\n",
       "</g>\n",
       "</g>\n",
       "<!-- tree_0x5560898a8b18&#45;&gt;tree_0x556089bc9af8 -->\n",
       "<g id=\"edge16\" class=\"edge\">\n",
       "<title>tree_0x5560898a8b18&#45;&gt;tree_0x556089bc9af8</title>\n",
       "<g id=\"a_edge16\"><a xlink:title=\"1\">\n",
       "<path fill=\"none\" stroke=\"#000000\" d=\"M353.0456,-359.8314C353.0456,-349 353.0456,-335.2876 353.0456,-324.4133\"/>\n",
       "</a>\n",
       "</g>\n",
       "</g>\n",
       "<!-- tree_0x556089bc9b00 -->\n",
       "<g id=\"node20\" class=\"node\">\n",
       "<title>tree_0x556089bc9b00</title>\n",
       "<g id=\"a_node20\"><a xlink:title=\"range: 37 &#45; 39&#10;state: 1293&#10;error&#45;cost: 0&#10;has&#45;changes: 0&#10;repeat&#45;depth: 0&#10;lookahead&#45;bytes: 1\">\n",
       "<text text-anchor=\"middle\" x=\"487.0456\" y=\"-302.3\" font-family=\"Times,serif\" font-size=\"14.00\" fill=\"#000000\">}</text>\n",
       "</a>\n",
       "</g>\n",
       "</g>\n",
       "<!-- tree_0x5560898a8b18&#45;&gt;tree_0x556089bc9b00 -->\n",
       "<g id=\"edge17\" class=\"edge\">\n",
       "<title>tree_0x5560898a8b18&#45;&gt;tree_0x556089bc9b00</title>\n",
       "<g id=\"a_edge17\"><a xlink:title=\"2\">\n",
       "<path fill=\"none\" stroke=\"#000000\" d=\"M382.7845,-362.0209C405.7616,-349.6749 437.3115,-332.7228 459.6711,-320.7087\"/>\n",
       "</a>\n",
       "</g>\n",
       "</g>\n",
       "<!-- tree_0x55608989d980 -->\n",
       "<g id=\"node10\" class=\"node\">\n",
       "<title>tree_0x55608989d980</title>\n",
       "<g id=\"a_node10\"><a xlink:title=\"range: 19 &#45; 28&#10;state: 320&#10;error&#45;cost: 0&#10;has&#45;changes: 0&#10;repeat&#45;depth: 0&#10;lookahead&#45;bytes: 1\">\n",
       "<ellipse fill=\"none\" stroke=\"#000000\" cx=\"111.0456\" cy=\"-234\" rx=\"50.0912\" ry=\"18\"/>\n",
       "<text text-anchor=\"middle\" x=\"111.0456\" y=\"-230.3\" font-family=\"Times,serif\" font-size=\"14.00\" fill=\"#000000\">modifier</text>\n",
       "</a>\n",
       "</g>\n",
       "</g>\n",
       "<!-- tree_0x556089bc9af8&#45;&gt;tree_0x55608989d980 -->\n",
       "<g id=\"edge7\" class=\"edge\">\n",
       "<title>tree_0x556089bc9af8&#45;&gt;tree_0x55608989d980</title>\n",
       "<g id=\"a_edge7\"><a xlink:title=\"0\">\n",
       "<path fill=\"none\" stroke=\"#000000\" d=\"M302.1281,-291.1111C265.3913,-280.3357 214.6227,-265.3765 170.0456,-252 163.3783,-249.9993 156.2932,-247.8542 149.4321,-245.7669\"/>\n",
       "</a>\n",
       "</g>\n",
       "</g>\n",
       "<!-- tree_0x55608989d988 -->\n",
       "<g id=\"node12\" class=\"node\">\n",
       "<title>tree_0x55608989d988</title>\n",
       "<g id=\"a_node12\"><a xlink:title=\"range: 28 &#45; 32&#10;state: 580&#10;error&#45;cost: 0&#10;has&#45;changes: 0&#10;repeat&#45;depth: 0&#10;lookahead&#45;bytes: 1\">\n",
       "<ellipse fill=\"none\" stroke=\"#000000\" cx=\"249.0456\" cy=\"-234\" rx=\"69.5877\" ry=\"18\"/>\n",
       "<text text-anchor=\"middle\" x=\"249.0456\" y=\"-230.3\" font-family=\"Times,serif\" font-size=\"14.00\" fill=\"#000000\">_unann_type</text>\n",
       "</a>\n",
       "</g>\n",
       "</g>\n",
       "<!-- tree_0x556089bc9af8&#45;&gt;tree_0x55608989d988 -->\n",
       "<g id=\"edge10\" class=\"edge\">\n",
       "<title>tree_0x556089bc9af8&#45;&gt;tree_0x55608989d988</title>\n",
       "<g id=\"a_edge10\"><a xlink:title=\"1\">\n",
       "<path fill=\"none\" stroke=\"#000000\" d=\"M327.8701,-288.5708C311.3984,-277.1674 289.9819,-262.3405 273.6303,-251.0202\"/>\n",
       "</a>\n",
       "</g>\n",
       "</g>\n",
       "<!-- tree_0x55608989d990 -->\n",
       "<g id=\"node15\" class=\"node\">\n",
       "<title>tree_0x55608989d990</title>\n",
       "<g id=\"a_node15\"><a xlink:title=\"range: 32 &#45; 36&#10;state: 849&#10;error&#45;cost: 0&#10;has&#45;changes: 0&#10;repeat&#45;depth: 0&#10;lookahead&#45;bytes: 1\">\n",
       "<ellipse fill=\"none\" stroke=\"#000000\" cx=\"457.0456\" cy=\"-234\" rx=\"120.7786\" ry=\"18\"/>\n",
       "<text text-anchor=\"middle\" x=\"457.0456\" y=\"-230.3\" font-family=\"Times,serif\" font-size=\"14.00\" fill=\"#000000\">variable_declarator_list</text>\n",
       "</a>\n",
       "</g>\n",
       "</g>\n",
       "<!-- tree_0x556089bc9af8&#45;&gt;tree_0x55608989d990 -->\n",
       "<g id=\"edge14\" class=\"edge\">\n",
       "<title>tree_0x556089bc9af8&#45;&gt;tree_0x55608989d990</title>\n",
       "<g id=\"a_edge14\"><a xlink:title=\"2\">\n",
       "<path fill=\"none\" stroke=\"#000000\" d=\"M378.2211,-288.5708C394.332,-277.4171 415.1737,-262.9882 431.3794,-251.7689\"/>\n",
       "</a>\n",
       "</g>\n",
       "</g>\n",
       "<!-- tree_0x55608989d998 -->\n",
       "<g id=\"node19\" class=\"node\">\n",
       "<title>tree_0x55608989d998</title>\n",
       "<g id=\"a_node19\"><a xlink:title=\"range: 36 &#45; 37&#10;state: 843&#10;error&#45;cost: 0&#10;has&#45;changes: 0&#10;repeat&#45;depth: 0&#10;lookahead&#45;bytes: 1\">\n",
       "<text text-anchor=\"middle\" x=\"623.0456\" y=\"-230.3\" font-family=\"Times,serif\" font-size=\"14.00\" fill=\"#000000\">;</text>\n",
       "</a>\n",
       "</g>\n",
       "</g>\n",
       "<!-- tree_0x556089bc9af8&#45;&gt;tree_0x55608989d998 -->\n",
       "<g id=\"edge15\" class=\"edge\">\n",
       "<title>tree_0x556089bc9af8&#45;&gt;tree_0x55608989d998</title>\n",
       "<g id=\"a_edge15\"><a xlink:title=\"3\">\n",
       "<path fill=\"none\" stroke=\"#000000\" d=\"M416.0399,-293.2186C474.1805,-281.1035 556.0516,-263.1462 587.0456,-252 589.9388,-250.9595 592.9009,-249.745 595.8228,-248.4469\"/>\n",
       "</a>\n",
       "</g>\n",
       "</g>\n",
       "<!-- tree_0x556089b618e0 -->\n",
       "<g id=\"node11\" class=\"node\">\n",
       "<title>tree_0x556089b618e0</title>\n",
       "<g id=\"a_node11\"><a xlink:title=\"range: 19 &#45; 28&#10;state: 320&#10;error&#45;cost: 0&#10;has&#45;changes: 0&#10;repeat&#45;depth: 0&#10;lookahead&#45;bytes: 1\">\n",
       "<text text-anchor=\"middle\" x=\"111.0456\" y=\"-158.3\" font-family=\"Times,serif\" font-size=\"14.00\" fill=\"#000000\">private</text>\n",
       "</a>\n",
       "</g>\n",
       "</g>\n",
       "<!-- tree_0x55608989d980&#45;&gt;tree_0x556089b618e0 -->\n",
       "<g id=\"edge6\" class=\"edge\">\n",
       "<title>tree_0x55608989d980&#45;&gt;tree_0x556089b618e0</title>\n",
       "<g id=\"a_edge6\"><a xlink:title=\"0\">\n",
       "<path fill=\"none\" stroke=\"#000000\" d=\"M111.0456,-215.8314C111.0456,-205 111.0456,-191.2876 111.0456,-180.4133\"/>\n",
       "</a>\n",
       "</g>\n",
       "</g>\n",
       "<!-- tree_0x5560897fd080 -->\n",
       "<g id=\"node13\" class=\"node\">\n",
       "<title>tree_0x5560897fd080</title>\n",
       "<g id=\"a_node13\"><a xlink:title=\"range: 28 &#45; 32&#10;state: 580&#10;error&#45;cost: 0&#10;has&#45;changes: 0&#10;repeat&#45;depth: 0&#10;lookahead&#45;bytes: 1\">\n",
       "<ellipse fill=\"none\" stroke=\"#000000\" cx=\"249.0456\" cy=\"-162\" rx=\"72.5877\" ry=\"18\"/>\n",
       "<text text-anchor=\"middle\" x=\"249.0456\" y=\"-158.3\" font-family=\"Times,serif\" font-size=\"14.00\" fill=\"#000000\">integral_type</text>\n",
       "</a>\n",
       "</g>\n",
       "</g>\n",
       "<!-- tree_0x55608989d988&#45;&gt;tree_0x5560897fd080 -->\n",
       "<g id=\"edge9\" class=\"edge\">\n",
       "<title>tree_0x55608989d988&#45;&gt;tree_0x5560897fd080</title>\n",
       "<g id=\"a_edge9\"><a xlink:title=\"0\">\n",
       "<path fill=\"none\" stroke=\"#000000\" d=\"M249.0456,-215.8314C249.0456,-205 249.0456,-191.2876 249.0456,-180.4133\"/>\n",
       "</a>\n",
       "</g>\n",
       "</g>\n",
       "<!-- tree_0x55608989d960 -->\n",
       "<g id=\"node14\" class=\"node\">\n",
       "<title>tree_0x55608989d960</title>\n",
       "<g id=\"a_node14\"><a xlink:title=\"range: 28 &#45; 32&#10;state: 12&#10;error&#45;cost: 0&#10;has&#45;changes: 0&#10;repeat&#45;depth: 0&#10;lookahead&#45;bytes: 1\">\n",
       "<text text-anchor=\"middle\" x=\"249.0456\" y=\"-86.3\" font-family=\"Times,serif\" font-size=\"14.00\" fill=\"#000000\">int</text>\n",
       "</a>\n",
       "</g>\n",
       "</g>\n",
       "<!-- tree_0x5560897fd080&#45;&gt;tree_0x55608989d960 -->\n",
       "<g id=\"edge8\" class=\"edge\">\n",
       "<title>tree_0x5560897fd080&#45;&gt;tree_0x55608989d960</title>\n",
       "<g id=\"a_edge8\"><a xlink:title=\"0\">\n",
       "<path fill=\"none\" stroke=\"#000000\" d=\"M249.0456,-143.8314C249.0456,-133 249.0456,-119.2876 249.0456,-108.4133\"/>\n",
       "</a>\n",
       "</g>\n",
       "</g>\n",
       "<!-- tree_0x556089bc9ad0 -->\n",
       "<g id=\"node16\" class=\"node\">\n",
       "<title>tree_0x556089bc9ad0</title>\n",
       "<g id=\"a_node16\"><a xlink:title=\"range: 32 &#45; 36&#10;state: 849&#10;error&#45;cost: 0&#10;has&#45;changes: 0&#10;repeat&#45;depth: 0&#10;lookahead&#45;bytes: 1\">\n",
       "<ellipse fill=\"none\" stroke=\"#000000\" cx=\"457.0456\" cy=\"-162\" rx=\"101.2821\" ry=\"18\"/>\n",
       "<text text-anchor=\"middle\" x=\"457.0456\" y=\"-158.3\" font-family=\"Times,serif\" font-size=\"14.00\" fill=\"#000000\">variable_declarator</text>\n",
       "</a>\n",
       "</g>\n",
       "</g>\n",
       "<!-- tree_0x55608989d990&#45;&gt;tree_0x556089bc9ad0 -->\n",
       "<g id=\"edge13\" class=\"edge\">\n",
       "<title>tree_0x55608989d990&#45;&gt;tree_0x556089bc9ad0</title>\n",
       "<g id=\"a_edge13\"><a xlink:title=\"0\">\n",
       "<path fill=\"none\" stroke=\"#000000\" d=\"M457.0456,-215.8314C457.0456,-205 457.0456,-191.2876 457.0456,-180.4133\"/>\n",
       "</a>\n",
       "</g>\n",
       "</g>\n",
       "<!-- tree_0x556089ac3730 -->\n",
       "<g id=\"node17\" class=\"node\">\n",
       "<title>tree_0x556089ac3730</title>\n",
       "<g id=\"a_node17\"><a xlink:title=\"range: 32 &#45; 36&#10;state: 849&#10;error&#45;cost: 0&#10;has&#45;changes: 0&#10;repeat&#45;depth: 0&#10;lookahead&#45;bytes: 1\">\n",
       "<ellipse fill=\"none\" stroke=\"#000000\" cx=\"457.0456\" cy=\"-90\" rx=\"115.0796\" ry=\"18\"/>\n",
       "<text text-anchor=\"middle\" x=\"457.0456\" y=\"-86.3\" font-family=\"Times,serif\" font-size=\"14.00\" fill=\"#000000\">variable_declarator_id</text>\n",
       "</a>\n",
       "</g>\n",
       "</g>\n",
       "<!-- tree_0x556089bc9ad0&#45;&gt;tree_0x556089ac3730 -->\n",
       "<g id=\"edge12\" class=\"edge\">\n",
       "<title>tree_0x556089bc9ad0&#45;&gt;tree_0x556089ac3730</title>\n",
       "<g id=\"a_edge12\"><a xlink:title=\"0\">\n",
       "<path fill=\"none\" stroke=\"#000000\" d=\"M457.0456,-143.8314C457.0456,-133 457.0456,-119.2876 457.0456,-108.4133\"/>\n",
       "</a>\n",
       "</g>\n",
       "</g>\n",
       "<!-- tree_0x556089ba5f90 -->\n",
       "<g id=\"node18\" class=\"node\">\n",
       "<title>tree_0x556089ba5f90</title>\n",
       "<g id=\"a_node18\"><a xlink:title=\"range: 32 &#45; 36&#10;state: 23&#10;error&#45;cost: 0&#10;has&#45;changes: 0&#10;repeat&#45;depth: 0&#10;lookahead&#45;bytes: 1\">\n",
       "<text text-anchor=\"middle\" x=\"457.0456\" y=\"-14.3\" font-family=\"Times,serif\" font-size=\"14.00\" fill=\"#000000\">identifier</text>\n",
       "</a>\n",
       "</g>\n",
       "</g>\n",
       "<!-- tree_0x556089ac3730&#45;&gt;tree_0x556089ba5f90 -->\n",
       "<g id=\"edge11\" class=\"edge\">\n",
       "<title>tree_0x556089ac3730&#45;&gt;tree_0x556089ba5f90</title>\n",
       "<g id=\"a_edge11\"><a xlink:title=\"0\">\n",
       "<path fill=\"none\" stroke=\"#000000\" d=\"M457.0456,-71.8314C457.0456,-61 457.0456,-47.2876 457.0456,-36.4133\"/>\n",
       "</a>\n",
       "</g>\n",
       "</g>\n",
       "</g>\n",
       "</svg>\n"
      ],
      "text/plain": [
       "<graphviz.files.Source at 0x7fc2a82b2048>"
      ]
     },
     "execution_count": 28,
     "metadata": {},
     "output_type": "execute_result"
    }
   ],
   "source": [
    "show_graph(new_tree)"
   ]
  },
  {
   "cell_type": "code",
   "execution_count": null,
   "metadata": {},
   "outputs": [],
   "source": []
  }
 ],
 "metadata": {
  "kernelspec": {
   "display_name": "Python 3",
   "language": "python",
   "name": "python3"
  },
  "language_info": {
   "codemirror_mode": {
    "name": "ipython",
    "version": 3
   },
   "file_extension": ".py",
   "mimetype": "text/x-python",
   "name": "python",
   "nbconvert_exporter": "python",
   "pygments_lexer": "ipython3",
   "version": "3.7.2"
  }
 },
 "nbformat": 4,
 "nbformat_minor": 2
}
